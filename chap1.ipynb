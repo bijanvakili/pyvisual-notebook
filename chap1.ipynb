{
 "metadata": {
  "name": "",
  "signature": "sha256:d0fd00df90c6b7a3ab1aa31cb999989a2b720559174a2708039ca1d2a588912f"
 },
 "nbformat": 3,
 "nbformat_minor": 0,
 "worksheets": [
  {
   "cells": [
    {
     "cell_type": "code",
     "collapsed": false,
     "input": [
      "%matplotlib inline\n",
      "\n",
      "import matplotlib.pyplot as plt\n",
      "import numpy as np\n",
      "\n",
      "t = np.arange(0.0, 1.0, 0.01)\n",
      "s = np.sin(2 * np.pi * t)\n",
      "\n",
      "# make line red\n",
      "plt.rcParams['lines.color'] = 'r'\n",
      "plt.plot(t,s)\n",
      "\n",
      "c = np.cos(2 * np.pi * t)\n",
      "# make lines thick\n",
      "plt.rcParams['lines.linewidth'] = 3\n",
      "plt.plot(t,c)"
     ],
     "language": "python",
     "metadata": {},
     "outputs": [],
     "prompt_number": 10
    },
    {
     "cell_type": "code",
     "collapsed": false,
     "input": [],
     "language": "python",
     "metadata": {},
     "outputs": []
    }
   ],
   "metadata": {}
  }
 ]
}