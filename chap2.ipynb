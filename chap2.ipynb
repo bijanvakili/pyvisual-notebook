{
 "metadata": {
  "name": "",
  "signature": "sha256:2fa04b77e5db7a3fbbc60e8eed35bc09d0f25246590e1c4cc445dcdaa9ee7bd7"
 },
 "nbformat": 3,
 "nbformat_minor": 0,
 "worksheets": [
  {
   "cells": [
    {
     "cell_type": "markdown",
     "metadata": {},
     "source": [
      "### CSV import\n",
      "\n",
      "Uses standard python [csv](https://docs.python.org/2/library/csv.html) module\n",
      "\n",
      "Download CSV data (ch02-data.csv) from [here](https://github.com/axolote/IPython_StudyNotebooks/tree/master/python_dataviz_cookbook) or [here](https://github.com/datadave/python-data-viz-cookbook)"
     ]
    },
    {
     "cell_type": "code",
     "collapsed": false,
     "input": [
      "import csv\n",
      "import sys\n",
      "\n",
      "filename = 'ch02-data.csv'\n",
      "data = []\n",
      "try:\n",
      "    with open(filename) as f:\n",
      "        reader = csv.reader(f)\n",
      "        header = reader.next()\n",
      "        data = [row for row in reader]\n",
      "except csv.Error as e:\n",
      "    print 'Error reading CSV file at line %s: %s' % (reader.line_num, e)\n",
      "    sys.exit(-1)\n",
      "    \n",
      "if header:\n",
      "    print header\n",
      "    print '=============='\n",
      "for datarow in data:\n",
      "    print datarow"
     ],
     "language": "python",
     "metadata": {},
     "outputs": [
      {
       "output_type": "stream",
       "stream": "stdout",
       "text": [
        "['day', 'ammount']\n",
        "==============\n",
        "['2013-01-24', '323']\n",
        "['2013-01-25', '233']\n",
        "['2013-01-26', '433']\n",
        "['2013-01-27', '555']\n",
        "['2013-01-28', '123']\n",
        "['2013-01-29', '0']\n",
        "['2013-01-30', '221']\n"
       ]
      }
     ],
     "prompt_number": 5
    },
    {
     "cell_type": "code",
     "collapsed": false,
     "input": [
      "%%sh \n",
      "# here's a quick bash command for viewing the header of a csv\n",
      "head -n 1 'ch02-data.csv'"
     ],
     "language": "python",
     "metadata": {},
     "outputs": [
      {
       "output_type": "stream",
       "stream": "stdout",
       "text": [
        "\"day\",\"ammount\"\n"
       ]
      }
     ],
     "prompt_number": 9
    },
    {
     "cell_type": "markdown",
     "metadata": {},
     "source": [
      "#### Faster CSV import\n",
      "\n",
      "[numpy.loadtxt()](http://docs.scipy.org/doc/numpy/reference/generated/numpy.loadtxt.html#numpy.loadtxt) is the optimized numpy alternative for loading .csv files"
     ]
    },
    {
     "cell_type": "code",
     "collapsed": false,
     "input": [
      "import numpy as np\n",
      "data = np.loadtxt(filename, dtype='string', delimiter=',')\n",
      "data"
     ],
     "language": "python",
     "metadata": {},
     "outputs": [
      {
       "metadata": {},
       "output_type": "pyout",
       "prompt_number": 12,
       "text": [
        "array([['\"day\"', '\"ammount\"'],\n",
        "       ['2013-01-24', '323'],\n",
        "       ['2013-01-25', '233'],\n",
        "       ['2013-01-26', '433'],\n",
        "       ['2013-01-27', '555'],\n",
        "       ['2013-01-28', '123'],\n",
        "       ['2013-01-29', '0'],\n",
        "       ['2013-01-30', '221']], \n",
        "      dtype='|S10')"
       ]
      }
     ],
     "prompt_number": 12
    },
    {
     "cell_type": "markdown",
     "metadata": {},
     "source": [
      "### Excel files\n",
      "\n",
      "Reading MS Excel files can be done using the [xlrd](http://www.python-excel.org/) library\n",
      "\n",
      "Docs are available [here](https://secure.simplistix.co.uk/svn/xlrd/trunk/xlrd/doc/xlrd.html?p=4966)\n"
     ]
    },
    {
     "cell_type": "code",
     "collapsed": false,
     "input": [
      "from datetime import datetime\n",
      "import xlrd\n",
      "\n",
      "COLS = ('HAR #',\n",
      "        'Account Type',\n",
      "        'Amount',\n",
      "        'Procedure Code',\n",
      "        'Procedure Name',\n",
      "        'Post Date',\n",
      "        'Posting User',\n",
      "        'Transaction Comment',\n",
      "        'Payment Source',\n",
      "        'HTR ID',\n",
      "        'Transaction Source',\n",
      "        'Payor ID')\n",
      "\n",
      "COL_DATE = COLS.index('Post Date')\n",
      "\n",
      "filename = 'test_2.xlsx'\n",
      "wb = xlrd.open_workbook(filename=filename)\n",
      "ws = wb.sheet_by_name('Sheet1')\n",
      "dataset = []\n",
      "for r in xrange(1,ws.nrows):\n",
      "    col = []\n",
      "    for c in xrange(ws.ncols):\n",
      "        cell = ws.cell(r, c)\n",
      "        if c == COL_DATE:\n",
      "            val = datetime(*xlrd.xldate_as_tuple(cell.value, wb.datemode)).strftime('%m/%d/%Y')\n",
      "        else:\n",
      "            val = cell.value\n",
      "        col.append(val)\n",
      "    dataset.append(col)\n",
      "    \n",
      "from pprint import pprint\n",
      "pprint(dataset)     "
     ],
     "language": "python",
     "metadata": {},
     "outputs": [
      {
       "output_type": "stream",
       "stream": "stdout",
       "text": [
        "[[700424497.0,\n",
        "  '',\n",
        "  -109.0,\n",
        "  1000.0,\n",
        "  u'PATIENT PAYMENT (ACCOUNT)',\n",
        "  '01/06/2014',\n",
        "  u'STEWART JASON',\n",
        "  u'Enterprise Electronic Remittance Run 24652',\n",
        "  u'Check',\n",
        "  8888888.0,\n",
        "  u'Enterprise Payment Posting',\n",
        "  ''],\n",
        " [700424342.0,\n",
        "  '',\n",
        "  -109.0,\n",
        "  1000.0,\n",
        "  u'PATIENT PAYMENT (ACCOUNT)',\n",
        "  '01/06/2014',\n",
        "  u'STEWART JASON',\n",
        "  u'Enterprise Electronic Remittance Run 24652',\n",
        "  u'Check',\n",
        "  6666666.0,\n",
        "  u'Enterprise Payment Posting',\n",
        "  ''],\n",
        " [700416092.0,\n",
        "  '',\n",
        "  -218.0,\n",
        "  1000.0,\n",
        "  u'PATIENT PAYMENT (ACCOUNT)',\n",
        "  '01/06/2014',\n",
        "  u'STATEN KATHY E',\n",
        "  u'30.00 reposted from Tx 26; 25.13 reposted from Tx 244',\n",
        "  u'Credit Card',\n",
        "  41640496.0,\n",
        "  '',\n",
        "  ''],\n",
        " [408915717.0,\n",
        "  u'WAKEONEHBO',\n",
        "  -1527.5,\n",
        "  1000.0,\n",
        "  u'PATIENT PAYMENT (ACCOUNT)',\n",
        "  '01/06/2014',\n",
        "  u'STATEN KATHY E',\n",
        "  u'30.00 reposted from Tx 26; 25.13 reposted from Tx 244',\n",
        "  u'Credit Card',\n",
        "  41640496.0,\n",
        "  '',\n",
        "  ''],\n",
        " [600166355.0,\n",
        "  u'WAKEONE PB',\n",
        "  -299.0,\n",
        "  1000.0,\n",
        "  u'PATIENT PAYMENT (ACCOUNT)',\n",
        "  '01/06/2014',\n",
        "  u'STATEN KATHY E',\n",
        "  u'30.00 reposted from Tx 26; 25.13 reposted from Tx 244',\n",
        "  u'Credit Card',\n",
        "  41640496.0,\n",
        "  '',\n",
        "  '']]\n"
       ]
      }
     ],
     "prompt_number": 27
    },
    {
     "cell_type": "markdown",
     "metadata": {},
     "source": [
      "### Fixed width data imports\n",
      "\n",
      "First, generate fixed data in the file ```ch02-fixed-width-1M.data``` with file by running ```ch02-generate_f_data.py```"
     ]
    },
    {
     "cell_type": "code",
     "collapsed": false,
     "input": [
      "%%sh\n",
      "python ch02-generate_f_data.py > ch02-fixed-width-1M.data"
     ],
     "language": "python",
     "metadata": {},
     "outputs": [],
     "prompt_number": 3
    },
    {
     "cell_type": "markdown",
     "metadata": {},
     "source": [
      "Then import the fixed data using the python [struct](https://docs.python.org/2/library/struct.html)"
     ]
    },
    {
     "cell_type": "code",
     "collapsed": false,
     "input": [
      "import struct\n",
      "import string\n",
      "\n",
      "filename = 'ch02-fixed-width-1M.data'\n",
      "with open(filename, 'r') as f:\n",
      "    mask = '9s14s5s'\n",
      "    line_parser = struct.Struct(mask)\n",
      "    for line in f:\n",
      "        fields = line_parser.unpack_from(line)\n",
      "        print 'fields: ', [field.strip() for field in fields]"
     ],
     "language": "python",
     "metadata": {},
     "outputs": [
      {
       "output_type": "stream",
       "stream": "stdout",
       "text": [
        "fields:  ['207935961', '5445862140830', '1237']\n",
        "fields:  ['603815552', '1441036677893', '9422']\n",
        "fields:  ['308561437', '0560723421819', '5942']\n",
        "fields:  ['228968303', '4472317005965', '1156']\n",
        "fields:  ['561218930', '5473425841690', '3627']\n",
        "fields:  ['078344126', '3399156552401', '8206']\n",
        "fields:  ['508699458', '4601462137352', '7203']\n",
        "fields:  ['051652336', '8924104357690', '8724']\n",
        "fields:  ['263504127', '8456094115906', '7823']\n",
        "fields:  ['547952231', '9204866073416', '0185']\n",
        "fields:  ['014423436', '2679718815536', '0259']\n",
        "fields:  ['637151642', '0487156284093', '3950']\n",
        "fields:  ['806959250', '0813563234174', '6214']\n",
        "fields:  ['157326634', '2394295186071', '8004']\n",
        "fields:  ['898016139', '2616052054343', '4275']\n",
        "fields:  ['571065426', '3002193248396', '5841']\n",
        "fields:  ['449504937', '1153866631258', '2070']\n",
        "fields:  ['843556924', '1708411602392', '0673']\n",
        "fields:  ['939647542', '3766841023101', '2550']\n",
        "fields:  ['064802196', '5341143027692', '5387']\n",
        "fields:  ['294337620', '9466578021534', '5811']\n",
        "fields:  ['509822541', '4731182037956', '6306']\n",
        "fields:  ['064395141', '1827675294350', '6023']\n",
        "fields:  ['519664683', '1008174322340', '2579']\n",
        "fields:  ['904315172', '8048716329064', '5235']\n",
        "fields:  ['092340715', '2513264186385', '6094']\n",
        "fields:  ['671048462', '5869401333091', '2752']\n",
        "fields:  ['324769790', '3154460631285', '5012']\n",
        "fields:  ['788330150', '4146592605749', '3262']\n",
        "fields:  ['032728139', '6120476955453', '6084']\n",
        "fields:  ['830224094', '6769101155563', '8427']\n",
        "fields:  ['055261615', '2947103673398', '8442']\n",
        "fields:  ['614467519', '4061203537802', '9538']\n",
        "fields:  ['511564813', '6749263743220', '0085']\n",
        "fields:  ['444258775', '5161022919003', '6368']\n",
        "fields:  ['550569801', '7766224918433', '2043']\n",
        "fields:  ['432345605', '0183920791584', '2667']\n",
        "fields:  ['647719244', '5595836010023', '6218']\n",
        "fields:  ['712951000', '3453431469562', '7286']\n",
        "fields:  ['051388014', '6960452259317', '2764']\n",
        "fields:  ['334197552', '7894601516264', '0302']\n",
        "fields:  ['276425638', '1827091010534', '5643']\n",
        "fields:  ['619546277', '2286001531443', '0395']\n",
        "fields:  ['552358082', '4721036614437', '6099']\n",
        "fields:  ['872655692', '0035434381216', '9714']\n",
        "fields:  ['734713626', '4591928410620', '0835']\n",
        "fields:  ['466524190', '5583329801340', '7176']\n",
        "fields:  ['322349581', '9670010546816', '2745']\n",
        "fields:  ['008116720', '3464516293254', '5973']\n",
        "fields:  ['218134670', '0561769024495', '3238']\n"
       ]
      }
     ],
     "prompt_number": 5
    },
    {
     "cell_type": "code",
     "collapsed": false,
     "input": [],
     "language": "python",
     "metadata": {},
     "outputs": []
    }
   ],
   "metadata": {}
  }
 ]
}