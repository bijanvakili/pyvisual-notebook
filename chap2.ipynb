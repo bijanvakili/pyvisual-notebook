{
 "metadata": {
  "name": "",
  "signature": "sha256:2f7148e15cb2d6598c2f2d5cccaa848f5185247be1b7394a71c96d954ef15821"
 },
 "nbformat": 3,
 "nbformat_minor": 0,
 "worksheets": [
  {
   "cells": [
    {
     "cell_type": "markdown",
     "metadata": {},
     "source": [
      "## Importing Data\n",
      "\n",
      "### CSV import\n",
      "\n",
      "Uses standard python [csv](https://docs.python.org/2/library/csv.html) module\n",
      "\n",
      "Download CSV data (```ch02-data.csv```) from [here](https://github.com/axolote/IPython_StudyNotebooks/tree/master/python_dataviz_cookbook) or [here](https://github.com/datadave/python-data-viz-cookbook)\n",
      "\n",
      "The ```csv``` module will also handle tab-delimited files via the ```delimiter``` kwargs but it is recommended to use ```dialect=csv.excel_tab```."
     ]
    },
    {
     "cell_type": "code",
     "collapsed": false,
     "input": [
      "import csv\n",
      "import sys\n",
      "\n",
      "filename = 'ch02-data.csv'\n",
      "data = []\n",
      "try:\n",
      "    with open(filename) as f:\n",
      "        reader = csv.reader(f)\n",
      "        header = reader.next()\n",
      "        data = [row for row in reader]\n",
      "except csv.Error as e:\n",
      "    print 'Error reading CSV file at line %s: %s' % (reader.line_num, e)\n",
      "    sys.exit(-1)\n",
      "    \n",
      "if header:\n",
      "    print header\n",
      "    print '=============='\n",
      "for datarow in data:\n",
      "    print datarow"
     ],
     "language": "python",
     "metadata": {},
     "outputs": [
      {
       "output_type": "stream",
       "stream": "stdout",
       "text": [
        "['day', 'ammount']\n",
        "==============\n",
        "['2013-01-24', '323']\n",
        "['2013-01-25', '233']\n",
        "['2013-01-26', '433']\n",
        "['2013-01-27', '555']\n",
        "['2013-01-28', '123']\n",
        "['2013-01-29', '0']\n",
        "['2013-01-30', '221']\n"
       ]
      }
     ],
     "prompt_number": 5
    },
    {
     "cell_type": "code",
     "collapsed": false,
     "input": [
      "%%sh \n",
      "# here's a quick bash command for viewing the header of a csv\n",
      "head -n 1 'ch02-data.csv'"
     ],
     "language": "python",
     "metadata": {},
     "outputs": [
      {
       "output_type": "stream",
       "stream": "stdout",
       "text": [
        "\"day\",\"ammount\"\n"
       ]
      }
     ],
     "prompt_number": 9
    },
    {
     "cell_type": "markdown",
     "metadata": {},
     "source": [
      "#### Faster CSV import\n",
      "\n",
      "[numpy.loadtxt()](http://docs.scipy.org/doc/numpy/reference/generated/numpy.loadtxt.html#numpy.loadtxt) is the optimized numpy alternative for loading .csv files"
     ]
    },
    {
     "cell_type": "code",
     "collapsed": false,
     "input": [
      "import numpy as np\n",
      "data = np.loadtxt(filename, dtype='string', delimiter=',')\n",
      "data"
     ],
     "language": "python",
     "metadata": {},
     "outputs": [
      {
       "metadata": {},
       "output_type": "pyout",
       "prompt_number": 12,
       "text": [
        "array([['\"day\"', '\"ammount\"'],\n",
        "       ['2013-01-24', '323'],\n",
        "       ['2013-01-25', '233'],\n",
        "       ['2013-01-26', '433'],\n",
        "       ['2013-01-27', '555'],\n",
        "       ['2013-01-28', '123'],\n",
        "       ['2013-01-29', '0'],\n",
        "       ['2013-01-30', '221']], \n",
        "      dtype='|S10')"
       ]
      }
     ],
     "prompt_number": 12
    },
    {
     "cell_type": "markdown",
     "metadata": {},
     "source": [
      "### Excel files\n",
      "\n",
      "Reading MS Excel files can be done using the [xlrd](http://www.python-excel.org/) library\n",
      "\n",
      "Docs are available [here](https://secure.simplistix.co.uk/svn/xlrd/trunk/xlrd/doc/xlrd.html?p=4966)\n"
     ]
    },
    {
     "cell_type": "code",
     "collapsed": false,
     "input": [
      "from datetime import datetime\n",
      "import xlrd\n",
      "\n",
      "COLS = ('HAR #',\n",
      "        'Account Type',\n",
      "        'Amount',\n",
      "        'Procedure Code',\n",
      "        'Procedure Name',\n",
      "        'Post Date',\n",
      "        'Posting User',\n",
      "        'Transaction Comment',\n",
      "        'Payment Source',\n",
      "        'HTR ID',\n",
      "        'Transaction Source',\n",
      "        'Payor ID')\n",
      "\n",
      "COL_DATE = COLS.index('Post Date')\n",
      "\n",
      "filename = 'test_2.xlsx'\n",
      "wb = xlrd.open_workbook(filename=filename)\n",
      "ws = wb.sheet_by_name('Sheet1')\n",
      "dataset = []\n",
      "for r in xrange(1,ws.nrows):\n",
      "    col = []\n",
      "    for c in xrange(ws.ncols):\n",
      "        cell = ws.cell(r, c)\n",
      "        if c == COL_DATE:\n",
      "            val = datetime(*xlrd.xldate_as_tuple(cell.value, wb.datemode)).strftime('%m/%d/%Y')\n",
      "        else:\n",
      "            val = cell.value\n",
      "        col.append(val)\n",
      "    dataset.append(col)\n",
      "    \n",
      "from pprint import pprint\n",
      "pprint(dataset)     "
     ],
     "language": "python",
     "metadata": {},
     "outputs": [
      {
       "output_type": "stream",
       "stream": "stdout",
       "text": [
        "[[700424497.0,\n",
        "  '',\n",
        "  -109.0,\n",
        "  1000.0,\n",
        "  u'PATIENT PAYMENT (ACCOUNT)',\n",
        "  '01/06/2014',\n",
        "  u'STEWART JASON',\n",
        "  u'Enterprise Electronic Remittance Run 24652',\n",
        "  u'Check',\n",
        "  8888888.0,\n",
        "  u'Enterprise Payment Posting',\n",
        "  ''],\n",
        " [700424342.0,\n",
        "  '',\n",
        "  -109.0,\n",
        "  1000.0,\n",
        "  u'PATIENT PAYMENT (ACCOUNT)',\n",
        "  '01/06/2014',\n",
        "  u'STEWART JASON',\n",
        "  u'Enterprise Electronic Remittance Run 24652',\n",
        "  u'Check',\n",
        "  6666666.0,\n",
        "  u'Enterprise Payment Posting',\n",
        "  ''],\n",
        " [700416092.0,\n",
        "  '',\n",
        "  -218.0,\n",
        "  1000.0,\n",
        "  u'PATIENT PAYMENT (ACCOUNT)',\n",
        "  '01/06/2014',\n",
        "  u'STATEN KATHY E',\n",
        "  u'30.00 reposted from Tx 26; 25.13 reposted from Tx 244',\n",
        "  u'Credit Card',\n",
        "  41640496.0,\n",
        "  '',\n",
        "  ''],\n",
        " [408915717.0,\n",
        "  u'WAKEONEHBO',\n",
        "  -1527.5,\n",
        "  1000.0,\n",
        "  u'PATIENT PAYMENT (ACCOUNT)',\n",
        "  '01/06/2014',\n",
        "  u'STATEN KATHY E',\n",
        "  u'30.00 reposted from Tx 26; 25.13 reposted from Tx 244',\n",
        "  u'Credit Card',\n",
        "  41640496.0,\n",
        "  '',\n",
        "  ''],\n",
        " [600166355.0,\n",
        "  u'WAKEONE PB',\n",
        "  -299.0,\n",
        "  1000.0,\n",
        "  u'PATIENT PAYMENT (ACCOUNT)',\n",
        "  '01/06/2014',\n",
        "  u'STATEN KATHY E',\n",
        "  u'30.00 reposted from Tx 26; 25.13 reposted from Tx 244',\n",
        "  u'Credit Card',\n",
        "  41640496.0,\n",
        "  '',\n",
        "  '']]\n"
       ]
      }
     ],
     "prompt_number": 27
    },
    {
     "cell_type": "markdown",
     "metadata": {},
     "source": [
      "### Fixed width data imports\n",
      "\n",
      "First, generate fixed data in the file ```ch02-fixed-width-1M.data``` with file by running ```ch02-generate_f_data.py```"
     ]
    },
    {
     "cell_type": "code",
     "collapsed": false,
     "input": [
      "%%sh\n",
      "python ch02-generate_f_data.py > ch02-fixed-width-1M.data"
     ],
     "language": "python",
     "metadata": {},
     "outputs": [],
     "prompt_number": 3
    },
    {
     "cell_type": "markdown",
     "metadata": {},
     "source": [
      "Then import the fixed data using the python [struct](https://docs.python.org/2/library/struct.html)"
     ]
    },
    {
     "cell_type": "code",
     "collapsed": false,
     "input": [
      "import struct\n",
      "import string\n",
      "\n",
      "filename = 'ch02-fixed-width-1M.data'\n",
      "with open(filename, 'r') as f:\n",
      "    mask = '9s14s5s'\n",
      "    line_parser = struct.Struct(mask)\n",
      "    for line in f:\n",
      "        fields = line_parser.unpack_from(line)\n",
      "        print 'fields: ', [field.strip() for field in fields]"
     ],
     "language": "python",
     "metadata": {},
     "outputs": [
      {
       "output_type": "stream",
       "stream": "stdout",
       "text": [
        "fields:  ['207935961', '5445862140830', '1237']\n",
        "fields:  ['603815552', '1441036677893', '9422']\n",
        "fields:  ['308561437', '0560723421819', '5942']\n",
        "fields:  ['228968303', '4472317005965', '1156']\n",
        "fields:  ['561218930', '5473425841690', '3627']\n",
        "fields:  ['078344126', '3399156552401', '8206']\n",
        "fields:  ['508699458', '4601462137352', '7203']\n",
        "fields:  ['051652336', '8924104357690', '8724']\n",
        "fields:  ['263504127', '8456094115906', '7823']\n",
        "fields:  ['547952231', '9204866073416', '0185']\n",
        "fields:  ['014423436', '2679718815536', '0259']\n",
        "fields:  ['637151642', '0487156284093', '3950']\n",
        "fields:  ['806959250', '0813563234174', '6214']\n",
        "fields:  ['157326634', '2394295186071', '8004']\n",
        "fields:  ['898016139', '2616052054343', '4275']\n",
        "fields:  ['571065426', '3002193248396', '5841']\n",
        "fields:  ['449504937', '1153866631258', '2070']\n",
        "fields:  ['843556924', '1708411602392', '0673']\n",
        "fields:  ['939647542', '3766841023101', '2550']\n",
        "fields:  ['064802196', '5341143027692', '5387']\n",
        "fields:  ['294337620', '9466578021534', '5811']\n",
        "fields:  ['509822541', '4731182037956', '6306']\n",
        "fields:  ['064395141', '1827675294350', '6023']\n",
        "fields:  ['519664683', '1008174322340', '2579']\n",
        "fields:  ['904315172', '8048716329064', '5235']\n",
        "fields:  ['092340715', '2513264186385', '6094']\n",
        "fields:  ['671048462', '5869401333091', '2752']\n",
        "fields:  ['324769790', '3154460631285', '5012']\n",
        "fields:  ['788330150', '4146592605749', '3262']\n",
        "fields:  ['032728139', '6120476955453', '6084']\n",
        "fields:  ['830224094', '6769101155563', '8427']\n",
        "fields:  ['055261615', '2947103673398', '8442']\n",
        "fields:  ['614467519', '4061203537802', '9538']\n",
        "fields:  ['511564813', '6749263743220', '0085']\n",
        "fields:  ['444258775', '5161022919003', '6368']\n",
        "fields:  ['550569801', '7766224918433', '2043']\n",
        "fields:  ['432345605', '0183920791584', '2667']\n",
        "fields:  ['647719244', '5595836010023', '6218']\n",
        "fields:  ['712951000', '3453431469562', '7286']\n",
        "fields:  ['051388014', '6960452259317', '2764']\n",
        "fields:  ['334197552', '7894601516264', '0302']\n",
        "fields:  ['276425638', '1827091010534', '5643']\n",
        "fields:  ['619546277', '2286001531443', '0395']\n",
        "fields:  ['552358082', '4721036614437', '6099']\n",
        "fields:  ['872655692', '0035434381216', '9714']\n",
        "fields:  ['734713626', '4591928410620', '0835']\n",
        "fields:  ['466524190', '5583329801340', '7176']\n",
        "fields:  ['322349581', '9670010546816', '2745']\n",
        "fields:  ['008116720', '3464516293254', '5973']\n",
        "fields:  ['218134670', '0561769024495', '3238']\n"
       ]
      }
     ],
     "prompt_number": 5
    },
    {
     "cell_type": "markdown",
     "metadata": {},
     "source": [
      "### JSON imports\n",
      "\n",
      "JSON parsing can be done via the python ```json``` module.  \n",
      "\n",
      "However, for online JSON data, you can also use the Apache [requests](http://docs.python-requests.org/en/latest/) library.  According to the documentation, this is far simplier to use than the python ```urllib2``` module."
     ]
    },
    {
     "cell_type": "code",
     "collapsed": false,
     "input": [
      "import requests\n",
      "\n",
      "# Using github REST API as documented here:\n",
      "# https://developer.github.com/v3/activity/events/#list-public-events\n",
      "url = 'https://api.github.com/events'\n",
      "r = requests.get(url)\n",
      "json_obj = r.json()\n",
      "\n",
      "repos = set()\n",
      "for entry in json_obj:\n",
      "    try:\n",
      "        repos.add(entry['repo']['url'])\n",
      "    except KeyError as e:\n",
      "        print \"No key %s. Skipping...\" % (e)\n",
      "\n",
      "from pprint import pprint\n",
      "pprint(repos)"
     ],
     "language": "python",
     "metadata": {},
     "outputs": [
      {
       "output_type": "stream",
       "stream": "stdout",
       "text": [
        "set([u'https://api.github.com/repos/191Anki/ankisharerails',\n",
        "     u'https://api.github.com/repos/520pxs520/widget-sky',\n",
        "     u'https://api.github.com/repos/Archie22is/archie22is.github.io',\n",
        "     u'https://api.github.com/repos/JavaBookReadingFukuoka/ejrFukuoka',\n",
        "     u'https://api.github.com/repos/KenanSulayman/heartbeat',\n",
        "     u'https://api.github.com/repos/OpenSight/StorLever',\n",
        "     u'https://api.github.com/repos/Radioland/RadiolandGame',\n",
        "     u'https://api.github.com/repos/Vengarioth/nodeInjection',\n",
        "     u'https://api.github.com/repos/WebDevStudios/CMB2',\n",
        "     u'https://api.github.com/repos/albertrosa/vagrant_ubuntu_lamp',\n",
        "     u'https://api.github.com/repos/alexgalli/era',\n",
        "     u'https://api.github.com/repos/amberved/GoogleImageSearch',\n",
        "     u'https://api.github.com/repos/django-tastypie/django-tastypie',\n",
        "     u'https://api.github.com/repos/fueledbyflux/LeagueSharp-Public',\n",
        "     u'https://api.github.com/repos/iojs/iojs-cn',\n",
        "     u'https://api.github.com/repos/jonschlinkert/template',\n",
        "     u'https://api.github.com/repos/liqihua/SchoolHospital',\n",
        "     u'https://api.github.com/repos/mairin/melrose-library',\n",
        "     u'https://api.github.com/repos/markomarkovic/simple-php-git-deploy',\n",
        "     u'https://api.github.com/repos/nekopanda/logbook',\n",
        "     u'https://api.github.com/repos/ragingwind/ccad',\n",
        "     u'https://api.github.com/repos/rust-lang/rfcs',\n",
        "     u'https://api.github.com/repos/sahat/tvshow-tracker',\n",
        "     u'https://api.github.com/repos/scala/scala',\n",
        "     u'https://api.github.com/repos/shadowchemosh/HL-Pack-GM',\n",
        "     u'https://api.github.com/repos/tgdobreva/HirundoWebApp',\n",
        "     u'https://api.github.com/repos/travis-repos/chirp-org-staging',\n",
        "     u'https://api.github.com/repos/tyoshikawa1106/Apex-Limit-Class'])\n"
       ]
      }
     ],
     "prompt_number": 3
    },
    {
     "cell_type": "markdown",
     "metadata": {},
     "source": [
      "## Exporting data\n",
      "\n",
      "1. ```xlwt``` library is required to write Excel .xlsx files\n",
      "2. ```csv.writer``` python module to write .csv files\n",
      "3. ```json``` python module to write JSON files"
     ]
    },
    {
     "cell_type": "markdown",
     "metadata": {},
     "source": [
      "## Database\n",
      "\n",
      "Using SQLite (python ```sqlite3``` module) for raw SQL\n",
      "\n",
      "_TODO_ \n",
      "1. Many python libraries can serve as ORMs.  A comparison is published [here](http://www.pythoncentral.io/sqlalchemy-vs-orms/)\n",
      "2. pandas library can read from a database and present in a very clean HTML format (see example [here](http://nbviewer.ipython.org/github/jvns/pandas-cookbook/blob/master/cookbook/Chapter%209%20-%20Loading%20data%20from%20SQL%20databases.ipynb)). Another neat analysis example can be found [here](http://nbviewer.ipython.org/github/twiecki/financial-analysis-python-tutorial/blob/master/1.%20Pandas%20Basics.ipynb)\n",
      "3. Look into [ipython-sql](https://github.com/catherinedevlin/ipython-sql/issues/30) extension so that you can use ```%sql``` and ```%%sql``` magics in iPython Notebook"
     ]
    },
    {
     "cell_type": "code",
     "collapsed": false,
     "input": [
      "%%sh\n",
      "# Generate the local SQL database\n",
      "sqlite3 test.db < world.sql"
     ],
     "language": "python",
     "metadata": {},
     "outputs": [],
     "prompt_number": 3
    },
    {
     "cell_type": "code",
     "collapsed": false,
     "input": [
      "import sqlite3\n",
      "import sys\n",
      "\n",
      "db_filename = 'test.db'\n",
      "try:\n",
      "    con = sqlite3.connect(db_filename)\n",
      "    with con:\n",
      "        cur = con.cursor()\n",
      "        query = 'SELECT ID, Name, Population FROM City ORDER BY Population DESC LIMIT 20'\n",
      "        con.text_factory = str\n",
      "        cur.execute(query)\n",
      "        \n",
      "        result_set = cur.fetchall()\n",
      "        \n",
      "        # extract column names\n",
      "        col_names = [cn[0] for cn in cur.description]\n",
      "        print \"%10s %30s %10s\" % tuple(col_names)\n",
      "        print \"=\" * (10+1+30+1+10)\n",
      "        \n",
      "        for row in result_set:\n",
      "            print \"%10s %30s %10s\" % row\n",
      "except sqlite3.Error as err:\n",
      "    print \"[ERROR]: \", err"
     ],
     "language": "python",
     "metadata": {},
     "outputs": [
      {
       "output_type": "stream",
       "stream": "stdout",
       "text": [
        "        ID                           Name Population\n",
        "====================================================\n",
        "      1024                Mumbai (Bombay)   10500000\n",
        "      2331                          Seoul    9981619\n",
        "       206                      S\ufffdo Paulo    9968485\n",
        "      1890                       Shanghai    9696300\n",
        "       939                        Jakarta    9604900\n",
        "      2822                        Karachi    9269265\n",
        "      3357                       Istanbul    8787958\n",
        "      2515               Ciudad de M\ufffdxico    8591309\n",
        "      3580                         Moscow    8389200\n",
        "      3793                       New York    8008278\n",
        "      1532                          Tokyo    7980230\n",
        "      1891                         Peking    7472000\n",
        "       456                         London    7285000\n",
        "      1025                          Delhi    7206704\n",
        "       608                          Cairo    6789479\n",
        "      1380                        Teheran    6758845\n",
        "      2890                           Lima    6464693\n",
        "      1892                      Chongqing    6351600\n",
        "      3320                        Bangkok    6320174\n",
        "      2257              Santaf\ufffd de Bogot\ufffd    6260862\n"
       ]
      }
     ],
     "prompt_number": 4
    },
    {
     "cell_type": "markdown",
     "metadata": {},
     "source": [
      "## Cleaning Data\n",
      "\n",
      "[Median absolute deviation](http://en.wikipedia.org/wiki/Median_absolute_deviation) (MAD) can be used to clean data.\n",
      "\n",
      "This example will\n",
      "1. Generate normally distributed random data\n",
      "2. Add in a few outliers\n",
      "3. Use the function ```is_outlier()``` to detect outliers\n",
      "4. Plot both datasets (```x``` and ```filtered_x```) to see the difference\n",
      "\n",
      "```is_outlier()``` depends on a technique described by [Iglewicz and Hoaglin](http://www.itl.nist.gov/div898/handbook/eda/section3/eda35h.htm#Z-scores)"
     ]
    },
    {
     "cell_type": "code",
     "collapsed": false,
     "input": [
      "from IPython.display import HTML\n",
      "HTML('<iframe src=http://en.wikipedia.org/wiki/Median_absolute_deviation?useformat=mobile width=700 height=350></iframe>')"
     ],
     "language": "python",
     "metadata": {},
     "outputs": [
      {
       "html": [
        "<iframe src=http://en.wikipedia.org/wiki/Median_absolute_deviation?useformat=mobile width=700 height=350></iframe>"
       ],
       "metadata": {},
       "output_type": "pyout",
       "prompt_number": 9,
       "text": [
        "<IPython.core.display.HTML at 0x11364d750>"
       ]
      }
     ],
     "prompt_number": 9
    },
    {
     "cell_type": "code",
     "collapsed": false,
     "input": [
      "import numpy as np\n",
      "import matplotlib.pyplot as plt\n",
      "\n",
      "def is_outlier(points, threshold=3.5):\n",
      "    \"\"\"\n",
      "    Returns a boolean array with True if points are outliers and False otherwise.\n",
      "    \n",
      "    Data points with a modified z-sore greater than this value will be classified as outliers\n",
      "    \"\"\"\n",
      "    # transform into a vector\n",
      "    if len(points.shape) == 1:\n",
      "        points = points[:,None]\n",
      "    \n",
      "    # compute median value\n",
      "    median = np.median(points, axis=0)\n",
      "       \n",
      "    # compute median absolute deviation (MAD) by computing diff sums along the axis\n",
      "    diff = np.sum((points - median) ** 2, axis=-1)\n",
      "    diff = np.sqrt(diff)\n",
      "    med_abs_deviation = np.median(diff)\n",
      "    \n",
      "    # compute the modified Z-score\n",
      "    # http://www.itl.nist.gov/div898/handbook/eda/section4/eda43.htm#Iglewicz\n",
      "    modified_z_score = 0.6745 * diff / med_abs_deviation\n",
      "    \n",
      "    # return a mask for each outlier (as a boolean array)\n",
      "    return modified_z_score > threshold\n",
      "\n",
      "# random data -- unform distribution\n",
      "# (use np.random.randn() for normal distribution)\n",
      "x = np.random.random(100)\n",
      "\n",
      "# append a few outliers to the end of the array\n",
      "# NOTE: np.r_ translates slice objects to concatenation along the first axis.\n",
      "# Refrence for numpy.r_ can be found under Indexing Routines section\n",
      "x = np.r_[x, -49, 95, 100, -100]\n",
      "\n",
      "# create filtered array of data points by excluding outliers (truncation)\n",
      "# (using the logical NOT operator ~ on numpy arrays)\n",
      "filtered_x = x[~is_outlier(x)]\n",
      "\n",
      "# plot the histographs\n",
      "%matplotlib inline\n",
      "\n",
      "num_buckets = 50\n",
      "plt.figure()\n",
      "plt.subplot(211) # 211 = 2 rows x 1 column and plot #1\n",
      "plt.hist(x, num_buckets)\n",
      "plt.xlabel('Raw (unfiltered)')\n",
      "\n",
      "plt.subplot(212) # 212 = 2 rows x 1 column and plot #2\n",
      "plt.hist(filtered_x, num_buckets)\n",
      "plt.xlabel('Cleaned (filtered)')\n"
     ],
     "language": "python",
     "metadata": {},
     "outputs": [
      {
       "metadata": {},
       "output_type": "pyout",
       "prompt_number": 1,
       "text": [
        "<matplotlib.text.Text at 0x1122cd710>"
       ]
      },
      {
       "metadata": {},
       "output_type": "display_data",
       "png": "[encoded data removed]",
       "text": [
        "<matplotlib.figure.Figure at 0x111150990>"
       ]
      }
     ],
     "prompt_number": 1
    },
    {
     "cell_type": "code",
     "collapsed": false,
     "input": [
      "%matplotlib inline\n",
      "import numpy as np\n",
      "import matplotlib.pyplot as plt\n",
      "\n",
      "# fake up some data\n",
      "spread = np.random.rand(50) * 100\n",
      "center = np.ones(25) * 50\n",
      "\n",
      "# generate some outliers high and low\n",
      "flier_high = np.random.rand(10) * 100 + 100\n",
      "flier_low = np.random.rand(10) * -100\n",
      "\n",
      "# merge generated data set\n",
      "data = np.concatenate((spread, center, flier_high, flier_low), 0)\n",
      "\n",
      "# basic plot\n",
      "# 'gx' defining the outlier plotting properties\n",
      "plt.subplot(311)\n",
      "plt.boxplot(data, 0, 'gx')\n",
      "\n",
      "# compare this with similar scatter plot\n",
      "plt.subplot(312)\n",
      "spread_1 = np.concatenate((spread, flier_high, flier_low), 0)\n",
      "center_1 = np.ones(70) * 25\n",
      "plt.scatter(center_1, spread_1)\n",
      "plt.xlim([0, 50])\n",
      "\n",
      "# and with another that is more appropriate for scatter plot\n",
      "plt.subplot(313)\n",
      "center_2 = np.random.rand(70) * 50\n",
      "plt.scatter(center_2, spread_1)\n",
      "plt.xlim([0, 50])"
     ],
     "language": "python",
     "metadata": {},
     "outputs": [
      {
       "metadata": {},
       "output_type": "pyout",
       "prompt_number": 3,
       "text": [
        "(0, 50)"
       ]
      },
      {
       "metadata": {},
       "output_type": "display_data",
       "png": "[encoded data removed]",
       "text": [
        "<matplotlib.figure.Figure at 0x105f87cd0>"
       ]
      }
     ],
     "prompt_number": 3
    },
    {
     "cell_type": "code",
     "collapsed": false,
     "input": [],
     "language": "python",
     "metadata": {},
     "outputs": []
    }
   ],
   "metadata": {}
  }
 ]
}